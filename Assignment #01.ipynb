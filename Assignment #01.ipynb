{
 "cells": [
  {
   "cell_type": "code",
   "execution_count": 1,
   "id": "d54a55a3",
   "metadata": {},
   "outputs": [
    {
     "name": "stdout",
     "output_type": "stream",
     "text": [
      "Twinkle,Twinkla,LittleStar \n",
      "     How I wonder what you are! \n",
      "          Up about the world so high, \n",
      "          Like a diamond in the sky.\n",
      "Twinkle,Twinkle,Little Star,\n",
      "     How I wonder what you are!\n"
     ]
    }
   ],
   "source": [
    "a=\"Twinkle,Twinkla,LittleStar \\n     How I wonder what you are! \\n          Up about the world so high, \\n          Like a diamond in the sky.\\nTwinkle,Twinkle,Little Star,\\n     How I wonder what you are!\"\n",
    "print(a)"
   ]
  },
  {
   "cell_type": "code",
   "execution_count": 2,
   "id": "b2f38ca5",
   "metadata": {},
   "outputs": [
    {
     "name": "stdout",
     "output_type": "stream",
     "text": [
      "sys.version_info(major=3, minor=8, micro=8, releaselevel='final', serial=0)\n",
      "3.8.8 (default, Apr 13 2021, 15:08:03) [MSC v.1916 64 bit (AMD64)]\n"
     ]
    }
   ],
   "source": [
    "import sys\n",
    "print (sys.version_info)\n",
    "print (sys.version)\n"
   ]
  },
  {
   "cell_type": "code",
   "execution_count": 3,
   "id": "7fdf748d",
   "metadata": {},
   "outputs": [
    {
     "name": "stdout",
     "output_type": "stream",
     "text": [
      "2021-12-30 06:01:59\n"
     ]
    }
   ],
   "source": [
    "from datetime import datetime\n",
    "now = datetime.now()\n",
    "print (now.strftime(\"%Y-%m-%d %H:%M:%S\"))\n"
   ]
  },
  {
   "cell_type": "code",
   "execution_count": 4,
   "id": "632447b8",
   "metadata": {},
   "outputs": [
    {
     "name": "stdout",
     "output_type": "stream",
     "text": [
      "Please enter value of radius : 10\n",
      "314.1592653589793\n"
     ]
    }
   ],
   "source": [
    "import numpy as np\n",
    "r=input('Please enter value of radius : ')\n",
    "print(np.pi*int(r)**2)"
   ]
  },
  {
   "cell_type": "code",
   "execution_count": 5,
   "id": "ec07ee7c",
   "metadata": {},
   "outputs": [
    {
     "name": "stdout",
     "output_type": "stream",
     "text": [
      "OWAIS AHMED KHAN\n"
     ]
    }
   ],
   "source": [
    "first=(\"OWAIS\")\n",
    "middle=(\" AHMED\")\n",
    "last=(\" KHAN\")\n",
    "print(first+middle+last)\n"
   ]
  },
  {
   "cell_type": "code",
   "execution_count": 6,
   "id": "36509dfd",
   "metadata": {},
   "outputs": [
    {
     "name": "stdout",
     "output_type": "stream",
     "text": [
      "120\n"
     ]
    }
   ],
   "source": [
    "a=100\n",
    "b=20\n",
    "print(a+b)"
   ]
  },
  {
   "cell_type": "code",
   "execution_count": null,
   "id": "05f248ee",
   "metadata": {},
   "outputs": [],
   "source": []
  }
 ],
 "metadata": {
  "kernelspec": {
   "display_name": "Python 3",
   "language": "python",
   "name": "python3"
  },
  "language_info": {
   "codemirror_mode": {
    "name": "ipython",
    "version": 3
   },
   "file_extension": ".py",
   "mimetype": "text/x-python",
   "name": "python",
   "nbconvert_exporter": "python",
   "pygments_lexer": "ipython3",
   "version": "3.8.8"
  }
 },
 "nbformat": 4,
 "nbformat_minor": 5
}
